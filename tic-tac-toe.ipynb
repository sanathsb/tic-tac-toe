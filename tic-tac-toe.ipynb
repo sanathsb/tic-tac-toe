{
 "cells": [
  {
   "cell_type": "code",
   "execution_count": 3,
   "metadata": {},
   "outputs": [],
   "source": [
    "from IPython.display import clear_output\n",
    "\n",
    "\n",
    "def display_board(board):\n",
    "    \"\"\"Prints the game board \"\"\"\n",
    "    print(board[7]+'|'+board[8]+'|'+board[9])\n",
    "    print(board[4]+'|'+board[5]+'|'+board[6])\n",
    "    print(board[1]+'|'+board[2]+'|'+board[3])\n",
    "\n",
    "    \n",
    "def display_sample_board(player):\n",
    "    '''Display the game board with index values for reference'''\n",
    "    print('7|8|9')\n",
    "    print('4|5|6')\n",
    "    print('1|2|3')\n",
    "    print('\\n')\n",
    "    print(f'{player}, choose your marker position')\n",
    "    print('\\n')\n",
    "   \n",
    "    \n",
    "def player_name():\n",
    "    '''Takes in input from the user for their names'''\n",
    "    name1 = ''\n",
    "    name2 = ''\n",
    "    name1 = input('Who is the first person playing today? ')\n",
    "    name2 = input('Who us the second person playing today? ')\n",
    "    return (name1,name2)\n",
    "\n",
    "def player_marker(player1_name):\n",
    "    '''assigns wither X or O to the players as their markers'''\n",
    "    \n",
    "    marker = ''\n",
    "    #Take valid marker inputs.. either X or O.. else keep asking till valid input is provided\n",
    "    while not (marker == 'X' or marker == 'O'):\n",
    "        marker = input(f'Please choose either X or O for {player1_name} :').upper()\n",
    "        \n",
    "    \n",
    "    #Assign marker to player 1 and player 2 based on the user choice\n",
    "    if marker == 'X':\n",
    "        player1 = 'X'\n",
    "        player2 = 'O'\n",
    "    else:\n",
    "        player1 = 'O'\n",
    "        player2 = 'X'\n",
    "        \n",
    "    return (player1,player2)\n",
    "\n",
    "def user_input(plyr_ky):\n",
    "    '''Takes in valid user input for the game'''\n",
    "    \n",
    "    usr_in = int(input())\n",
    "    #Check if the input is a valid value, else ask again\n",
    "    if usr_in not in range(1,10):\n",
    "        clear_output()\n",
    "        display_board(tic_tac_toe)\n",
    "        print('please provide a valid position')\n",
    "        user_input(plyr_ky)\n",
    "    #Check if the input position is available, then update the marker.     \n",
    "    elif tic_tac_toe[usr_in] == ' ':\n",
    "        tic_tac_toe[usr_in] = plyr_ky\n",
    "    #Check if the position is already taken, then ask again for input    \n",
    "    else:\n",
    "        clear_output()\n",
    "        display_board(tic_tac_toe)\n",
    "        print(f'Position {usr_in} is already taken.. please provide a valid position')\n",
    "        user_input(plyr_ky)\n",
    "      \n",
    "            \n",
    "def play_game():\n",
    "\n",
    "    '''Main function which initializes the game and calls all other dependent functions'''\n",
    "    \n",
    "    global tic_tac_toe\n",
    "    \n",
    "    tic_tac_toe = [' ']*11\n",
    "    \n",
    "    clear_output()\n",
    "    #get player names\n",
    "    player1_name, player2_name = player_name()\n",
    "\n",
    "    clear_output()\n",
    "    #get player markers\n",
    "    player1_key, player2_key = player_marker(player1_name)\n",
    "\n",
    "    clear_output()\n",
    "    \n",
    "    print(f' Welcome! {player1_name}, you have chosen marker {player1_key} and {player2_name}, you have chosen marker {player2_key}.. All the best!')\n",
    "    input(\"Press 'Enter' key to begin\")\n",
    "    display_sample_board(player1_name)\n",
    "\n",
    "    #start game\n",
    "    for i in range(1,10):\n",
    "        clear_output()\n",
    "        #alternate between the two players for their respective turns\n",
    "        if i%2 == 0:\n",
    "            cur_player_name = player2_name\n",
    "            cur_player_key = player2_key\n",
    "        else:\n",
    "            cur_player_name = player1_name\n",
    "            cur_player_key = player1_key\n",
    "\n",
    "        display_sample_board(cur_player_name)\n",
    "        display_board(tic_tac_toe)\n",
    "        #get position from user for the marker\n",
    "        user_input(cur_player_key)\n",
    "\n",
    "        # check if any of the winning conditions are met for the current player-- rows, columns or diagonals\n",
    "        if tic_tac_toe[1:4] == [cur_player_key]*3 or tic_tac_toe[4:7] == [cur_player_key]*3 or tic_tac_toe[7:10] == [cur_player_key]*3 or tic_tac_toe[1:8:3] == [cur_player_key]*3 or tic_tac_toe[2:9:3] == [cur_player_key]*3 or tic_tac_toe[3:10:3] == [cur_player_key]*3 or tic_tac_toe[1:10:4] == [cur_player_key]*3 or tic_tac_toe[3:8:2] == [cur_player_key]*3:\n",
    "            clear_output()\n",
    "            display_board(tic_tac_toe)\n",
    "            print('\\n')\n",
    "            print(f'******* Congratulations! {cur_player_name} wins! *******')\n",
    "            break\n",
    "\n",
    "    else:\n",
    "        #if no winning conditions are met, then its a draw\n",
    "        clear_output()\n",
    "        display_board(tic_tac_toe)\n",
    "        print(\"Game Over. It's a Draw.. \")\n",
    "        print('\\n')\n",
    "        \n",
    "    play_again = input(\" Enter 'Y' to play again :\").upper()\n",
    "    if str(play_again) == 'Y':\n",
    "        play_game()\n",
    "\n",
    "            \n",
    "            \n"
   ]
  },
  {
   "cell_type": "code",
   "execution_count": null,
   "metadata": {},
   "outputs": [],
   "source": [
    "\n"
   ]
  },
  {
   "cell_type": "code",
   "execution_count": null,
   "metadata": {},
   "outputs": [],
   "source": []
  },
  {
   "cell_type": "code",
   "execution_count": null,
   "metadata": {},
   "outputs": [],
   "source": []
  },
  {
   "cell_type": "code",
   "execution_count": null,
   "metadata": {},
   "outputs": [],
   "source": []
  },
  {
   "cell_type": "code",
   "execution_count": null,
   "metadata": {},
   "outputs": [],
   "source": []
  },
  {
   "cell_type": "code",
   "execution_count": null,
   "metadata": {},
   "outputs": [],
   "source": []
  },
  {
   "cell_type": "code",
   "execution_count": null,
   "metadata": {},
   "outputs": [],
   "source": []
  },
  {
   "cell_type": "code",
   "execution_count": null,
   "metadata": {},
   "outputs": [],
   "source": []
  },
  {
   "cell_type": "code",
   "execution_count": null,
   "metadata": {},
   "outputs": [],
   "source": []
  },
  {
   "cell_type": "code",
   "execution_count": null,
   "metadata": {},
   "outputs": [],
   "source": []
  },
  {
   "cell_type": "code",
   "execution_count": null,
   "metadata": {},
   "outputs": [],
   "source": []
  },
  {
   "cell_type": "code",
   "execution_count": null,
   "metadata": {},
   "outputs": [],
   "source": []
  },
  {
   "cell_type": "code",
   "execution_count": null,
   "metadata": {},
   "outputs": [
    {
     "name": "stdout",
     "output_type": "stream",
     "text": [
      "O|X|X\n",
      "O|O|O\n",
      "X|O|X\n",
      "\n",
      "\n",
      "******* Congratulations! Rashmi wins! *******\n"
     ]
    }
   ],
   "source": [
    "play_game()"
   ]
  },
  {
   "cell_type": "code",
   "execution_count": null,
   "metadata": {},
   "outputs": [],
   "source": []
  }
 ],
 "metadata": {
  "kernelspec": {
   "display_name": "Python 3",
   "language": "python",
   "name": "python3"
  },
  "language_info": {
   "codemirror_mode": {
    "name": "ipython",
    "version": 3
   },
   "file_extension": ".py",
   "mimetype": "text/x-python",
   "name": "python",
   "nbconvert_exporter": "python",
   "pygments_lexer": "ipython3",
   "version": "3.7.1"
  }
 },
 "nbformat": 4,
 "nbformat_minor": 2
}
